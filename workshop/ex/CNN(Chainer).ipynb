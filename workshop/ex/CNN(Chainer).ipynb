{
 "cells": [
  {
   "cell_type": "code",
   "execution_count": 1,
   "metadata": {
    "collapsed": true
   },
   "outputs": [],
   "source": [
    "%reload_ext autoreload\n",
    "%autoreload 2\n",
    "%matplotlib inline\n",
    "\n",
    "import time\n",
    "from tqdm import tqdm\n",
    "import numpy as np\n",
    "import matplotlib.pyplot as plt\n",
    "\n",
    "import chainer\n",
    "import chainer.functions as F\n",
    "import chainer.links as L\n",
    "from chainer import optimizers\n",
    "from chainer import initializers\n",
    "#from chainer import serializers\n",
    "import  pickle # hdf5のインストールがめんどいからpickleでシリアライズ\n",
    "\n",
    "from dataset import load_dataset"
   ]
  },
  {
   "cell_type": "code",
   "execution_count": 2,
   "metadata": {
    "collapsed": true
   },
   "outputs": [],
   "source": [
    "# cifar10のロード、前処理\n",
    "x_train,y_train,x_test,y_test = load_dataset()\n",
    "x_train = x_train.astype(np.float32).transpose((0, 3, 1, 2))\n",
    "x_test = x_test.astype(np.float32).transpose((0, 3, 1, 2))\n",
    "y_train = y_train.astype(np.int32)\n",
    "y_test = y_test.astype(np.int32)\n",
    "\n",
    "# MLPのため\n",
    "x_train_mlp = x_train.reshape((50000, 32*32*3))\n",
    "x_test_mlp = x_test.reshape((10000, 32*32*3))"
   ]
  },
  {
   "cell_type": "markdown",
   "metadata": {},
   "source": [
    "# Hello CNN"
   ]
  },
  {
   "cell_type": "code",
   "execution_count": 3,
   "metadata": {},
   "outputs": [],
   "source": [
    "class Cifar10(chainer.Chain):\n",
    "\n",
    "    def __init__(self):\n",
    "        super(Cifar10, self).__init__(\n",
    "            raise NotImplementedError()\n",
    "        )\n",
    "        \n",
    "    def __call__(self, x):\n",
    "        raise NotImplementedError()\n"
   ]
  },
  {
   "cell_type": "code",
   "execution_count": 4,
   "metadata": {
    "collapsed": true
   },
   "outputs": [],
   "source": [
    "class MnistMLP(chainer.Chain):\n",
    "    def __init__(self, n_units):\n",
    "        super(MnistMLP, self).__init__(\n",
    "            l1=L.Linear(None, n_units),\n",
    "            l2=L.Linear(n_units, n_units),\n",
    "            l3=L.Linear(n_units, 10),\n",
    "        )\n",
    "\n",
    "    def __call__(self, x):\n",
    "        h1 = F.relu(self.l1(x))\n",
    "        h2 = F.relu(self.l2(h1))\n",
    "        return self.l3(h2)"
   ]
  },
  {
   "cell_type": "code",
   "execution_count": 5,
   "metadata": {
    "collapsed": true
   },
   "outputs": [],
   "source": [
    "def train(model, optimizer, x_data, y_data, batchsize=10):\n",
    "    N = x_data.shape[0] # 学習データ数(63000)\n",
    "    perm = np.random.permutation(N) # 学習する順番をランダムに入れ替え\n",
    "    \n",
    "    sum_accuracy = 0    # 累計正答率\n",
    "    sum_loss = 0        # 累計誤差\n",
    "    start = time.time() # 開始時刻\n",
    "    \n",
    "    # batchsize個ずつ学習\n",
    "    for i in tqdm(range(0, N, batchsize)):\n",
    "        x = chainer.Variable(np.asarray(x_data[i:i + batchsize]))\n",
    "        t = chainer.Variable(np.asarray(y_data[i:i + batchsize]))\n",
    "\n",
    "        # パラメータの更新(学習)\n",
    "        optimizer.update(model, x, t)\n",
    "        \n",
    "        sum_loss += float(model.loss.data) * len(t.data)\n",
    "        sum_accuracy += float(model.accuracy.data) * len(t.data)\n",
    "        \n",
    "    end = time.time() # 終了時刻\n",
    "    elapsed_time = end - start\n",
    "    throughput = N / elapsed_time # 単位時間当たりの作業量\n",
    "    print(\"train mean loss={}, accuracy={}, throughput={} image/sec\".format(\n",
    "        sum_loss / N, sum_accuracy / N, throughput))"
   ]
  },
  {
   "cell_type": "code",
   "execution_count": 6,
   "metadata": {
    "collapsed": true
   },
   "outputs": [],
   "source": [
    "def evaluate(model, x_data, y_data, batchsize=10):\n",
    "    N = x_data.shape[0] # テストデータ数(7000)\n",
    "    perm = np.random.permutation(N) # 学習する順番をランダムに入れ替え\n",
    "    \n",
    "    sum_accuracy = 0    # 累計正答率\n",
    "    sum_loss = 0        # 累計誤差\n",
    "    \n",
    "    # batchsize個ずつ評価\n",
    "    for i in tqdm(range(0, N, batchsize)):\n",
    "        # 評価の時はvolatile\n",
    "        x = chainer.Variable(np.asarray(x_data[i:i + batchsize]))\n",
    "        t = chainer.Variable(np.asarray(y_data[i:i + batchsize]))\n",
    "        \n",
    "        # 評価\n",
    "        loss = model(x, t)\n",
    "        sum_loss += float(loss.data) * len(t.data)\n",
    "        sum_accuracy += float(model.accuracy.data) * len(t.data)\n",
    "        \n",
    "    print(\"test mean loss={}, accuracy={}\".format(\n",
    "        sum_loss / N, sum_accuracy / N))"
   ]
  },
  {
   "cell_type": "code",
   "execution_count": 7,
   "metadata": {},
   "outputs": [],
   "source": [
    "cifar = L.Classifier(Cifar10())\n",
    "optimizer = optimizers.Adam()\n",
    "optimizer.setup(cifar)"
   ]
  },
  {
   "cell_type": "code",
   "execution_count": 8,
   "metadata": {
    "scrolled": true
   },
   "outputs": [
    {
     "name": "stderr",
     "output_type": "stream",
     "text": [
      "\r",
      "  0%|          | 0/500 [00:00<?, ?it/s]"
     ]
    },
    {
     "name": "stdout",
     "output_type": "stream",
     "text": [
      "epoch 1\n"
     ]
    },
    {
     "name": "stderr",
     "output_type": "stream",
     "text": [
      "100%|██████████| 500/500 [09:04<00:00,  1.08s/it]\n",
      "  0%|          | 0/100 [00:00<?, ?it/s]"
     ]
    },
    {
     "name": "stdout",
     "output_type": "stream",
     "text": [
      "train mean loss=3.234859844207764, accuracy=0.2831200006902218, throughput=91.88863916396144 image/sec\n"
     ]
    },
    {
     "name": "stderr",
     "output_type": "stream",
     "text": [
      "100%|██████████| 100/100 [00:52<00:00,  1.84it/s]\n",
      "  0%|          | 0/500 [00:00<?, ?it/s]"
     ]
    },
    {
     "name": "stdout",
     "output_type": "stream",
     "text": [
      "test mean loss=1.661006611585617, accuracy=0.3874999994039536\n",
      "epoch 2\n"
     ]
    },
    {
     "name": "stderr",
     "output_type": "stream",
     "text": [
      "100%|██████████| 500/500 [09:21<00:00,  1.14s/it]\n",
      "  0%|          | 0/100 [00:00<?, ?it/s]"
     ]
    },
    {
     "name": "stdout",
     "output_type": "stream",
     "text": [
      "train mean loss=1.5556455514431, accuracy=0.4319599980115891, throughput=89.00504925759199 image/sec\n"
     ]
    },
    {
     "name": "stderr",
     "output_type": "stream",
     "text": [
      "100%|██████████| 100/100 [00:53<00:00,  1.85it/s]\n",
      "  0%|          | 0/500 [00:00<?, ?it/s]"
     ]
    },
    {
     "name": "stdout",
     "output_type": "stream",
     "text": [
      "test mean loss=1.4535580682754516, accuracy=0.4751999968290329\n",
      "epoch 3\n"
     ]
    },
    {
     "name": "stderr",
     "output_type": "stream",
     "text": [
      "100%|██████████| 500/500 [09:24<00:00,  1.15s/it]\n",
      "  0%|          | 0/100 [00:00<?, ?it/s]"
     ]
    },
    {
     "name": "stdout",
     "output_type": "stream",
     "text": [
      "train mean loss=1.4010654501914979, accuracy=0.4945399970412254, throughput=88.56855349788441 image/sec\n"
     ]
    },
    {
     "name": "stderr",
     "output_type": "stream",
     "text": [
      "100%|██████████| 100/100 [00:54<00:00,  1.86it/s]\n",
      "  0%|          | 0/500 [00:00<?, ?it/s]"
     ]
    },
    {
     "name": "stdout",
     "output_type": "stream",
     "text": [
      "test mean loss=1.3811000406742096, accuracy=0.5050999969244003\n",
      "epoch 4\n"
     ]
    },
    {
     "name": "stderr",
     "output_type": "stream",
     "text": [
      "100%|██████████| 500/500 [09:24<00:00,  1.14s/it]\n",
      "  0%|          | 0/100 [00:00<?, ?it/s]"
     ]
    },
    {
     "name": "stdout",
     "output_type": "stream",
     "text": [
      "train mean loss=1.3207488870620727, accuracy=0.5265599966645241, throughput=88.63795221538915 image/sec\n"
     ]
    },
    {
     "name": "stderr",
     "output_type": "stream",
     "text": [
      "100%|██████████| 100/100 [00:54<00:00,  1.85it/s]\n",
      "  0%|          | 0/500 [00:00<?, ?it/s]"
     ]
    },
    {
     "name": "stdout",
     "output_type": "stream",
     "text": [
      "test mean loss=1.3153099083900452, accuracy=0.5384999984502792\n",
      "epoch 5\n"
     ]
    },
    {
     "name": "stderr",
     "output_type": "stream",
     "text": [
      "100%|██████████| 500/500 [09:37<00:00,  1.16s/it]\n",
      "  0%|          | 0/100 [00:00<?, ?it/s]"
     ]
    },
    {
     "name": "stdout",
     "output_type": "stream",
     "text": [
      "train mean loss=1.2416635991334914, accuracy=0.5556599975824356, throughput=86.5962251116414 image/sec\n"
     ]
    },
    {
     "name": "stderr",
     "output_type": "stream",
     "text": [
      "100%|██████████| 100/100 [00:55<00:00,  1.82it/s]\n",
      "  0%|          | 0/500 [00:00<?, ?it/s]"
     ]
    },
    {
     "name": "stdout",
     "output_type": "stream",
     "text": [
      "test mean loss=1.2616805386543275, accuracy=0.5533999970555306\n",
      "epoch 6\n"
     ]
    },
    {
     "name": "stderr",
     "output_type": "stream",
     "text": [
      "100%|██████████| 500/500 [09:25<00:00,  1.13s/it]\n",
      "  0%|          | 0/100 [00:00<?, ?it/s]"
     ]
    },
    {
     "name": "stdout",
     "output_type": "stream",
     "text": [
      "train mean loss=1.206718305706978, accuracy=0.5715399987697601, throughput=88.40967168197254 image/sec\n"
     ]
    },
    {
     "name": "stderr",
     "output_type": "stream",
     "text": [
      "100%|██████████| 100/100 [00:54<00:00,  1.84it/s]\n",
      "  0%|          | 0/500 [00:00<?, ?it/s]"
     ]
    },
    {
     "name": "stdout",
     "output_type": "stream",
     "text": [
      "test mean loss=1.2641571050882339, accuracy=0.5681999975442886\n",
      "epoch 7\n"
     ]
    },
    {
     "name": "stderr",
     "output_type": "stream",
     "text": [
      "100%|██████████| 500/500 [09:27<00:00,  1.15s/it]\n",
      "  0%|          | 0/100 [00:00<?, ?it/s]"
     ]
    },
    {
     "name": "stdout",
     "output_type": "stream",
     "text": [
      "train mean loss=1.1654414484500886, accuracy=0.5864199988245964, throughput=88.0702308991712 image/sec\n"
     ]
    },
    {
     "name": "stderr",
     "output_type": "stream",
     "text": [
      "100%|██████████| 100/100 [00:54<00:00,  1.84it/s]\n",
      "  0%|          | 0/500 [00:00<?, ?it/s]"
     ]
    },
    {
     "name": "stdout",
     "output_type": "stream",
     "text": [
      "test mean loss=1.2766219341754914, accuracy=0.5534999960660935\n",
      "epoch 8\n"
     ]
    },
    {
     "name": "stderr",
     "output_type": "stream",
     "text": [
      "100%|██████████| 500/500 [09:27<00:00,  1.15s/it]\n",
      "  0%|          | 0/100 [00:00<?, ?it/s]"
     ]
    },
    {
     "name": "stdout",
     "output_type": "stream",
     "text": [
      "train mean loss=1.1386882820129394, accuracy=0.5967399973869324, throughput=88.06486973518957 image/sec\n"
     ]
    },
    {
     "name": "stderr",
     "output_type": "stream",
     "text": [
      "100%|██████████| 100/100 [00:54<00:00,  1.86it/s]\n",
      "  0%|          | 0/500 [00:00<?, ?it/s]"
     ]
    },
    {
     "name": "stdout",
     "output_type": "stream",
     "text": [
      "test mean loss=1.2293979793787002, accuracy=0.5808999964594841\n",
      "epoch 9\n"
     ]
    },
    {
     "name": "stderr",
     "output_type": "stream",
     "text": [
      "100%|██████████| 500/500 [09:28<00:00,  1.15s/it]\n",
      "  0%|          | 0/100 [00:00<?, ?it/s]"
     ]
    },
    {
     "name": "stdout",
     "output_type": "stream",
     "text": [
      "train mean loss=1.126480348587036, accuracy=0.6013399991989136, throughput=87.95022035108511 image/sec\n"
     ]
    },
    {
     "name": "stderr",
     "output_type": "stream",
     "text": [
      "100%|██████████| 100/100 [00:54<00:00,  1.85it/s]\n",
      "  0%|          | 0/500 [00:00<?, ?it/s]"
     ]
    },
    {
     "name": "stdout",
     "output_type": "stream",
     "text": [
      "test mean loss=1.2073948550224305, accuracy=0.5911999982595444\n",
      "epoch 10\n"
     ]
    },
    {
     "name": "stderr",
     "output_type": "stream",
     "text": [
      "100%|██████████| 500/500 [09:30<00:00,  1.14s/it]\n",
      "  0%|          | 0/100 [00:00<?, ?it/s]"
     ]
    },
    {
     "name": "stdout",
     "output_type": "stream",
     "text": [
      "train mean loss=1.097481538295746, accuracy=0.613839998781681, throughput=87.65032667122092 image/sec\n"
     ]
    },
    {
     "name": "stderr",
     "output_type": "stream",
     "text": [
      "100%|██████████| 100/100 [00:54<00:00,  1.83it/s]"
     ]
    },
    {
     "name": "stdout",
     "output_type": "stream",
     "text": [
      "test mean loss=1.2174324989318848, accuracy=0.587099997997284\n"
     ]
    },
    {
     "name": "stderr",
     "output_type": "stream",
     "text": [
      "\n"
     ]
    }
   ],
   "source": [
    "# train CNN\n",
    "n_epoch = 10 # 学習回数(学習データを何周するか)\n",
    "for epoch in range(1, n_epoch + 1):\n",
    "    print(\"epoch\", epoch)\n",
    "    \n",
    "    # 訓練\n",
    "    train(cifar, optimizer, x_train, y_train, batchsize=100)\n",
    "    \n",
    "    # 評価\n",
    "    evaluate(cifar, x_test, y_test, batchsize=100)"
   ]
  },
  {
   "cell_type": "code",
   "execution_count": 9,
   "metadata": {},
   "outputs": [],
   "source": [
    "mlp = L.Classifier(MnistMLP(1000))\n",
    "optimizer = optimizers.Adam()\n",
    "optimizer.setup(mlp)"
   ]
  },
  {
   "cell_type": "code",
   "execution_count": 10,
   "metadata": {},
   "outputs": [
    {
     "name": "stderr",
     "output_type": "stream",
     "text": [
      "\r",
      "  0%|          | 0/500 [00:00<?, ?it/s]"
     ]
    },
    {
     "name": "stdout",
     "output_type": "stream",
     "text": [
      "epoch 1\n"
     ]
    },
    {
     "name": "stderr",
     "output_type": "stream",
     "text": [
      "100%|██████████| 500/500 [00:29<00:00, 16.75it/s]\n",
      " 10%|█         | 10/100 [00:00<00:00, 95.19it/s]"
     ]
    },
    {
     "name": "stdout",
     "output_type": "stream",
     "text": [
      "train mean loss=31.926015453100206, accuracy=0.2309799997843802, throughput=1674.806793054277 image/sec\n"
     ]
    },
    {
     "name": "stderr",
     "output_type": "stream",
     "text": [
      "100%|██████████| 100/100 [00:00<00:00, 121.93it/s]\n",
      "  0%|          | 2/500 [00:00<00:32, 15.46it/s]"
     ]
    },
    {
     "name": "stdout",
     "output_type": "stream",
     "text": [
      "test mean loss=2.0208606016635895, accuracy=0.24580000028014182\n",
      "epoch 2\n"
     ]
    },
    {
     "name": "stderr",
     "output_type": "stream",
     "text": [
      "100%|██████████| 500/500 [01:03<00:00,  6.39it/s]\n",
      " 10%|█         | 10/100 [00:00<00:00, 99.04it/s]"
     ]
    },
    {
     "name": "stdout",
     "output_type": "stream",
     "text": [
      "train mean loss=1.9813649497032166, accuracy=0.26400000089406966, throughput=792.8727831227804 image/sec\n"
     ]
    },
    {
     "name": "stderr",
     "output_type": "stream",
     "text": [
      "100%|██████████| 100/100 [00:00<00:00, 119.65it/s]\n",
      "  0%|          | 1/500 [00:00<01:18,  6.34it/s]"
     ]
    },
    {
     "name": "stdout",
     "output_type": "stream",
     "text": [
      "test mean loss=2.000557414293289, accuracy=0.24539999902248383\n",
      "epoch 3\n"
     ]
    },
    {
     "name": "stderr",
     "output_type": "stream",
     "text": [
      "100%|██████████| 500/500 [01:19<00:00,  6.03it/s]\n",
      " 10%|█         | 10/100 [00:00<00:00, 96.19it/s]"
     ]
    },
    {
     "name": "stdout",
     "output_type": "stream",
     "text": [
      "train mean loss=1.9974593651294708, accuracy=0.25144000053405763, throughput=628.0037485123648 image/sec\n"
     ]
    },
    {
     "name": "stderr",
     "output_type": "stream",
     "text": [
      "100%|██████████| 100/100 [00:00<00:00, 109.55it/s]\n",
      "  0%|          | 1/500 [00:00<01:18,  6.35it/s]"
     ]
    },
    {
     "name": "stdout",
     "output_type": "stream",
     "text": [
      "test mean loss=1.9505640292167663, accuracy=0.2653000001609325\n",
      "epoch 4\n"
     ]
    },
    {
     "name": "stderr",
     "output_type": "stream",
     "text": [
      "100%|██████████| 500/500 [01:19<00:00,  6.40it/s]\n",
      "  8%|▊         | 8/100 [00:00<00:01, 75.03it/s]"
     ]
    },
    {
     "name": "stdout",
     "output_type": "stream",
     "text": [
      "train mean loss=1.9919416801929475, accuracy=0.2552799998819828, throughput=627.9773667967969 image/sec\n"
     ]
    },
    {
     "name": "stderr",
     "output_type": "stream",
     "text": [
      "100%|██████████| 100/100 [00:00<00:00, 107.85it/s]\n",
      "  0%|          | 1/500 [00:00<01:14,  6.68it/s]"
     ]
    },
    {
     "name": "stdout",
     "output_type": "stream",
     "text": [
      "test mean loss=2.1187426578998565, accuracy=0.17810000136494636\n",
      "epoch 5\n"
     ]
    },
    {
     "name": "stderr",
     "output_type": "stream",
     "text": [
      "100%|██████████| 500/500 [01:19<00:00,  6.43it/s]\n",
      " 10%|█         | 10/100 [00:00<00:00, 91.09it/s]"
     ]
    },
    {
     "name": "stdout",
     "output_type": "stream",
     "text": [
      "train mean loss=2.0193923065662385, accuracy=0.2448600000590086, throughput=630.8569160934329 image/sec\n"
     ]
    },
    {
     "name": "stderr",
     "output_type": "stream",
     "text": [
      "100%|██████████| 100/100 [00:00<00:00, 113.89it/s]\n",
      "  0%|          | 1/500 [00:00<01:17,  6.47it/s]"
     ]
    },
    {
     "name": "stdout",
     "output_type": "stream",
     "text": [
      "test mean loss=2.059542543888092, accuracy=0.20799999974668026\n",
      "epoch 6\n"
     ]
    },
    {
     "name": "stderr",
     "output_type": "stream",
     "text": [
      "100%|██████████| 500/500 [01:19<00:00,  6.10it/s]\n",
      " 10%|█         | 10/100 [00:00<00:00, 96.89it/s]"
     ]
    },
    {
     "name": "stdout",
     "output_type": "stream",
     "text": [
      "train mean loss=2.0230659172534944, accuracy=0.23652000050246716, throughput=628.6606901206037 image/sec\n"
     ]
    },
    {
     "name": "stderr",
     "output_type": "stream",
     "text": [
      "100%|██████████| 100/100 [00:00<00:00, 124.60it/s]\n",
      "  0%|          | 1/500 [00:00<01:14,  6.71it/s]"
     ]
    },
    {
     "name": "stdout",
     "output_type": "stream",
     "text": [
      "test mean loss=2.0249111104011535, accuracy=0.2288999992609024\n",
      "epoch 7\n"
     ]
    },
    {
     "name": "stderr",
     "output_type": "stream",
     "text": [
      "100%|██████████| 500/500 [01:18<00:00,  6.30it/s]\n",
      " 10%|█         | 10/100 [00:00<00:00, 96.77it/s]"
     ]
    },
    {
     "name": "stdout",
     "output_type": "stream",
     "text": [
      "train mean loss=2.0727017571926116, accuracy=0.21002000017464162, throughput=634.8428799804518 image/sec\n"
     ]
    },
    {
     "name": "stderr",
     "output_type": "stream",
     "text": [
      "100%|██████████| 100/100 [00:00<00:00, 126.72it/s]\n",
      "  0%|          | 1/500 [00:00<01:18,  6.34it/s]"
     ]
    },
    {
     "name": "stdout",
     "output_type": "stream",
     "text": [
      "test mean loss=2.128094711303711, accuracy=0.18439999990165235\n",
      "epoch 8\n"
     ]
    },
    {
     "name": "stderr",
     "output_type": "stream",
     "text": [
      "100%|██████████| 500/500 [01:17<00:00,  6.37it/s]\n",
      " 11%|█         | 11/100 [00:00<00:00, 104.29it/s]"
     ]
    },
    {
     "name": "stdout",
     "output_type": "stream",
     "text": [
      "train mean loss=2.081159444093704, accuracy=0.20601999992132186, throughput=645.1159339426276 image/sec\n"
     ]
    },
    {
     "name": "stderr",
     "output_type": "stream",
     "text": [
      "100%|██████████| 100/100 [00:00<00:00, 125.84it/s]\n",
      "  0%|          | 1/500 [00:00<01:18,  6.40it/s]"
     ]
    },
    {
     "name": "stdout",
     "output_type": "stream",
     "text": [
      "test mean loss=2.0271094024181364, accuracy=0.2045999997854233\n",
      "epoch 9\n"
     ]
    },
    {
     "name": "stderr",
     "output_type": "stream",
     "text": [
      "100%|██████████| 500/500 [01:19<00:00,  6.32it/s]\n",
      " 24%|██▍       | 24/100 [00:00<00:00, 106.63it/s]"
     ]
    },
    {
     "name": "stdout",
     "output_type": "stream",
     "text": [
      "train mean loss=2.086194333553314, accuracy=0.20798000011593104, throughput=632.6032830243545 image/sec\n"
     ]
    },
    {
     "name": "stderr",
     "output_type": "stream",
     "text": [
      "100%|██████████| 100/100 [00:00<00:00, 127.52it/s]\n",
      "  0%|          | 1/500 [00:00<01:22,  6.06it/s]"
     ]
    },
    {
     "name": "stdout",
     "output_type": "stream",
     "text": [
      "test mean loss=2.2844183921813963, accuracy=0.17700000055134296\n",
      "epoch 10\n"
     ]
    },
    {
     "name": "stderr",
     "output_type": "stream",
     "text": [
      "100%|██████████| 500/500 [01:18<00:00,  6.37it/s]\n",
      " 24%|██▍       | 24/100 [00:00<00:00, 106.78it/s]"
     ]
    },
    {
     "name": "stdout",
     "output_type": "stream",
     "text": [
      "train mean loss=2.164412490129471, accuracy=0.1722800000086427, throughput=635.4210417185914 image/sec\n"
     ]
    },
    {
     "name": "stderr",
     "output_type": "stream",
     "text": [
      "100%|██████████| 100/100 [00:00<00:00, 123.59it/s]"
     ]
    },
    {
     "name": "stdout",
     "output_type": "stream",
     "text": [
      "test mean loss=2.292631440162659, accuracy=0.1077999991737306\n"
     ]
    },
    {
     "name": "stderr",
     "output_type": "stream",
     "text": [
      "\n"
     ]
    }
   ],
   "source": [
    "# train MLP\n",
    "n_epoch = 10 # 学習回数(学習データを何周するか)\n",
    "for epoch in range(1, n_epoch + 1):\n",
    "    print(\"epoch\", epoch)\n",
    "    \n",
    "    # 訓練\n",
    "    train(mlp, optimizer, x_train_mlp, y_train, batchsize=100)\n",
    "    \n",
    "    # 評価\n",
    "    evaluate(mlp, x_test_mlp, y_test, batchsize=100)"
   ]
  },
  {
   "cell_type": "code",
   "execution_count": null,
   "metadata": {
    "collapsed": true
   },
   "outputs": [],
   "source": []
  },
  {
   "cell_type": "markdown",
   "metadata": {},
   "source": [
    "# Hello ResNet"
   ]
  },
  {
   "cell_type": "code",
   "execution_count": 11,
   "metadata": {},
   "outputs": [],
   "source": [
    "class ResBlock(chainer.Chain):\n",
    "\n",
    "    def __init__(self, in_size, ch):\n",
    "        super(ResBlock, self).__init__()\n",
    "        initialW = initializers.HeNormal()\n",
    "        \n",
    "        with self.init_scope():\n",
    "            raise NotImplementedError()\n",
    "            self.conv1 = L.Convolution2D(\n",
    "                in_size, ch, 1, 1, 0, initialW=initialW, nobias=True)\n",
    "            self.bn1 = L.BatchNormalization(ch)\n",
    "            self.conv2 = L.Convolution2D(\n",
    "                ch, ch, 3, 1, 1, initialW=initialW, nobias=True)\n",
    "            self.bn2 = L.BatchNormalization(ch)\n",
    "            self.conv3 = L.Convolution2D(\n",
    "                ch, in_size, 1, 1, 0, initialW=initialW, nobias=True)\n",
    "            self.bn3 = L.BatchNormalization(in_size)\n",
    "\n",
    "    def __call__(self, x):\n",
    "        h = F.relu(self.bn1(self.conv1(x)))\n",
    "        h = F.relu(self.bn2(self.conv2(h)))\n",
    "        h = self.bn3(self.conv3(h))\n",
    "\n",
    "        return F.relu(h + x)\n",
    "\n",
    "class ResNetSmall(chainer.Chain):\n",
    "\n",
    "    def __init__(self):\n",
    "        super(ResNetSmall, self).__init__(\n",
    "            conv1 = L.Convolution2D(\n",
    "                3, 32, 5, initialW=initializers.HeNormal()),\n",
    "            bn1 = L.BatchNormalization(32),\n",
    "            res1= ResBlock(32, 32),\n",
    "            res2= ResBlock(32, 32),\n",
    "            res3= ResBlock(32, 32),\n",
    "            fc=L.Linear(None, 10),\n",
    "        )\n",
    "        \n",
    "    def __call__(self, x):\n",
    "        h = self.bn1(self.conv1(x))\n",
    "        h = F.max_pooling_2d(F.relu(h), 3, stride=2)\n",
    "        h = self.res2(h)\n",
    "        h = self.res3(h)\n",
    "        h = F.average_pooling_2d(h, 7, stride=1)\n",
    "        return self.fc(h)"
   ]
  },
  {
   "cell_type": "code",
   "execution_count": 12,
   "metadata": {
    "collapsed": true
   },
   "outputs": [],
   "source": [
    "resnet = L.Classifier(ResNetSmall())\n",
    "optimizer = optimizers.Adam()\n",
    "optimizer.setup(resnet)"
   ]
  },
  {
   "cell_type": "code",
   "execution_count": 13,
   "metadata": {},
   "outputs": [
    {
     "name": "stderr",
     "output_type": "stream",
     "text": [
      "\r",
      "  0%|          | 0/500 [00:00<?, ?it/s]"
     ]
    },
    {
     "name": "stdout",
     "output_type": "stream",
     "text": [
      "epoch 1\n"
     ]
    },
    {
     "name": "stderr",
     "output_type": "stream",
     "text": [
      "100%|██████████| 500/500 [06:17<00:00,  1.32it/s]\n",
      "  0%|          | 0/100 [00:00<?, ?it/s]"
     ]
    },
    {
     "name": "stdout",
     "output_type": "stream",
     "text": [
      "train mean loss=1.4206987286806108, accuracy=0.4871799971908331, throughput=132.5744042418934 image/sec\n"
     ]
    },
    {
     "name": "stderr",
     "output_type": "stream",
     "text": [
      "100%|██████████| 100/100 [00:41<00:00,  2.38it/s]\n",
      "  0%|          | 0/500 [00:00<?, ?it/s]"
     ]
    },
    {
     "name": "stdout",
     "output_type": "stream",
     "text": [
      "test mean loss=1.1410971224308013, accuracy=0.591800000667572\n",
      "epoch 2\n"
     ]
    },
    {
     "name": "stderr",
     "output_type": "stream",
     "text": [
      "100%|██████████| 500/500 [06:21<00:00,  1.31it/s]\n",
      "  0%|          | 0/100 [00:00<?, ?it/s]"
     ]
    },
    {
     "name": "stdout",
     "output_type": "stream",
     "text": [
      "train mean loss=1.0714960433244705, accuracy=0.6172999998927117, throughput=130.9926645383336 image/sec\n"
     ]
    },
    {
     "name": "stderr",
     "output_type": "stream",
     "text": [
      "100%|██████████| 100/100 [00:41<00:00,  2.43it/s]\n",
      "  0%|          | 0/500 [00:00<?, ?it/s]"
     ]
    },
    {
     "name": "stdout",
     "output_type": "stream",
     "text": [
      "test mean loss=0.9666545051336288, accuracy=0.6588000011444092\n",
      "epoch 3\n"
     ]
    },
    {
     "name": "stderr",
     "output_type": "stream",
     "text": [
      "100%|██████████| 500/500 [06:21<00:00,  1.29it/s]\n",
      "  0%|          | 0/100 [00:00<?, ?it/s]"
     ]
    },
    {
     "name": "stdout",
     "output_type": "stream",
     "text": [
      "train mean loss=0.9499523708820343, accuracy=0.6646799995899201, throughput=131.02488001374397 image/sec\n"
     ]
    },
    {
     "name": "stderr",
     "output_type": "stream",
     "text": [
      "100%|██████████| 100/100 [00:41<00:00,  2.39it/s]\n",
      "  0%|          | 0/500 [00:00<?, ?it/s]"
     ]
    },
    {
     "name": "stdout",
     "output_type": "stream",
     "text": [
      "test mean loss=0.906964545249939, accuracy=0.6848000013828277\n",
      "epoch 4\n"
     ]
    },
    {
     "name": "stderr",
     "output_type": "stream",
     "text": [
      "100%|██████████| 500/500 [06:09<00:00,  1.31it/s]\n",
      "  0%|          | 0/100 [00:00<?, ?it/s]"
     ]
    },
    {
     "name": "stdout",
     "output_type": "stream",
     "text": [
      "train mean loss=0.8753799321651459, accuracy=0.6927200020551681, throughput=135.30536727043472 image/sec\n"
     ]
    },
    {
     "name": "stderr",
     "output_type": "stream",
     "text": [
      "100%|██████████| 100/100 [00:39<00:00,  2.59it/s]\n",
      "  0%|          | 0/500 [00:00<?, ?it/s]"
     ]
    },
    {
     "name": "stdout",
     "output_type": "stream",
     "text": [
      "test mean loss=0.861674370765686, accuracy=0.7029000002145768\n",
      "epoch 5\n"
     ]
    },
    {
     "name": "stderr",
     "output_type": "stream",
     "text": [
      "100%|██████████| 500/500 [06:21<00:00,  1.31it/s]\n",
      "  0%|          | 0/100 [00:00<?, ?it/s]"
     ]
    },
    {
     "name": "stdout",
     "output_type": "stream",
     "text": [
      "train mean loss=0.8235336170196533, accuracy=0.7127000015974044, throughput=131.05089441726773 image/sec\n"
     ]
    },
    {
     "name": "stderr",
     "output_type": "stream",
     "text": [
      "100%|██████████| 100/100 [00:39<00:00,  2.45it/s]\n",
      "  0%|          | 0/500 [00:00<?, ?it/s]"
     ]
    },
    {
     "name": "stdout",
     "output_type": "stream",
     "text": [
      "test mean loss=0.8360145550966263, accuracy=0.7086000019311904\n",
      "epoch 6\n"
     ]
    },
    {
     "name": "stderr",
     "output_type": "stream",
     "text": [
      "100%|██████████| 500/500 [06:22<00:00,  1.30it/s]\n",
      "  0%|          | 0/100 [00:00<?, ?it/s]"
     ]
    },
    {
     "name": "stdout",
     "output_type": "stream",
     "text": [
      "train mean loss=0.7817548118829727, accuracy=0.7273000012636185, throughput=130.73098145320964 image/sec\n"
     ]
    },
    {
     "name": "stderr",
     "output_type": "stream",
     "text": [
      "100%|██████████| 100/100 [00:42<00:00,  2.35it/s]\n",
      "  0%|          | 0/500 [00:00<?, ?it/s]"
     ]
    },
    {
     "name": "stdout",
     "output_type": "stream",
     "text": [
      "test mean loss=0.824804209470749, accuracy=0.7147000032663345\n",
      "epoch 7\n"
     ]
    },
    {
     "name": "stderr",
     "output_type": "stream",
     "text": [
      "100%|██████████| 500/500 [06:21<00:00,  1.32it/s]\n",
      "  0%|          | 0/100 [00:00<?, ?it/s]"
     ]
    },
    {
     "name": "stdout",
     "output_type": "stream",
     "text": [
      "train mean loss=0.7470138064622879, accuracy=0.7412600001096725, throughput=131.0105752823708 image/sec\n"
     ]
    },
    {
     "name": "stderr",
     "output_type": "stream",
     "text": [
      "100%|██████████| 100/100 [00:42<00:00,  2.40it/s]\n",
      "  0%|          | 0/500 [00:00<?, ?it/s]"
     ]
    },
    {
     "name": "stdout",
     "output_type": "stream",
     "text": [
      "test mean loss=0.8180749875307083, accuracy=0.7179000025987625\n",
      "epoch 8\n"
     ]
    },
    {
     "name": "stderr",
     "output_type": "stream",
     "text": [
      "100%|██████████| 500/500 [06:22<00:00,  1.29it/s]\n",
      "  0%|          | 0/100 [00:00<?, ?it/s]"
     ]
    },
    {
     "name": "stdout",
     "output_type": "stream",
     "text": [
      "train mean loss=0.718062000155449, accuracy=0.7514000004529953, throughput=130.75961315931866 image/sec\n"
     ]
    },
    {
     "name": "stderr",
     "output_type": "stream",
     "text": [
      "100%|██████████| 100/100 [00:40<00:00,  2.39it/s]\n",
      "  0%|          | 0/500 [00:00<?, ?it/s]"
     ]
    },
    {
     "name": "stdout",
     "output_type": "stream",
     "text": [
      "test mean loss=0.8077317541837692, accuracy=0.7216999989748001\n",
      "epoch 9\n"
     ]
    },
    {
     "name": "stderr",
     "output_type": "stream",
     "text": [
      "100%|██████████| 500/500 [06:14<00:00,  1.31it/s]\n",
      "  0%|          | 0/100 [00:00<?, ?it/s]"
     ]
    },
    {
     "name": "stdout",
     "output_type": "stream",
     "text": [
      "train mean loss=0.6937348523139953, accuracy=0.7604399988651276, throughput=133.58461702333253 image/sec\n"
     ]
    },
    {
     "name": "stderr",
     "output_type": "stream",
     "text": [
      "100%|██████████| 100/100 [00:41<00:00,  2.40it/s]\n",
      "  0%|          | 0/500 [00:00<?, ?it/s]"
     ]
    },
    {
     "name": "stdout",
     "output_type": "stream",
     "text": [
      "test mean loss=0.802440499663353, accuracy=0.7250000023841858\n",
      "epoch 10\n"
     ]
    },
    {
     "name": "stderr",
     "output_type": "stream",
     "text": [
      "100%|██████████| 500/500 [06:22<00:00,  1.29it/s]\n",
      "  0%|          | 0/100 [00:00<?, ?it/s]"
     ]
    },
    {
     "name": "stdout",
     "output_type": "stream",
     "text": [
      "train mean loss=0.6727387962937355, accuracy=0.7680999985933303, throughput=130.6262769361969 image/sec\n"
     ]
    },
    {
     "name": "stderr",
     "output_type": "stream",
     "text": [
      "100%|██████████| 100/100 [00:39<00:00,  2.61it/s]"
     ]
    },
    {
     "name": "stdout",
     "output_type": "stream",
     "text": [
      "test mean loss=0.7964427852630616, accuracy=0.7275000023841858\n"
     ]
    },
    {
     "name": "stderr",
     "output_type": "stream",
     "text": [
      "\n"
     ]
    }
   ],
   "source": [
    "n_epoch = 10 # 学習回数(学習データを何周するか)\n",
    "for epoch in range(1, n_epoch + 1):\n",
    "    print(\"epoch\", epoch)\n",
    "    \n",
    "    # 訓練\n",
    "    train(resnet, optimizer, x_train, y_train, batchsize=100)\n",
    "    \n",
    "    # 評価\n",
    "    evaluate(resnet, x_test, y_test, batchsize=100)"
   ]
  },
  {
   "cell_type": "code",
   "execution_count": null,
   "metadata": {
    "collapsed": true
   },
   "outputs": [],
   "source": []
  },
  {
   "cell_type": "code",
   "execution_count": null,
   "metadata": {
    "collapsed": true
   },
   "outputs": [],
   "source": []
  }
 ],
 "metadata": {
  "kernelspec": {
   "display_name": "Python 3",
   "language": "python",
   "name": "python3"
  },
  "language_info": {
   "codemirror_mode": {
    "name": "ipython",
    "version": 3
   },
   "file_extension": ".py",
   "mimetype": "text/x-python",
   "name": "python",
   "nbconvert_exporter": "python",
   "pygments_lexer": "ipython3",
   "version": "3.5.2"
  }
 },
 "nbformat": 4,
 "nbformat_minor": 2
}
