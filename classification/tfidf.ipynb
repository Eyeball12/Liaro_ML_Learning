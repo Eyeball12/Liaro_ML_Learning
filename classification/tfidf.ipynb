{
 "cells": [
  {
   "cell_type": "code",
   "execution_count": 2,
   "metadata": {
    "collapsed": true
   },
   "outputs": [],
   "source": [
    "%reload_ext autoreload\n",
    "%autoreload 2\n",
    "%matplotlib inline\n",
    "\n",
    "import math\n",
    "import numpy as np\n",
    "import glob\n",
    "import matplotlib.pyplot as plt\n",
    "import MeCab\n",
    "\n",
    "from sklearn import svm\n",
    "from sklearn.multiclass import OneVsRestClassifier\n",
    "from sklearn.cross_validation import train_test_split\n",
    "from sklearn.metrics import confusion_matrix"
   ]
  },
  {
   "cell_type": "code",
   "execution_count": 3,
   "metadata": {
    "collapsed": false
   },
   "outputs": [
    {
     "name": "stdout",
     "output_type": "stream",
     "text": [
      "['data/livedoor-homme/livedoor-homme-4608109.txt', 'data/livedoor-homme/livedoor-homme-5695247.txt', 'data/livedoor-homme/livedoor-homme-4768050.txt', 'data/livedoor-homme/livedoor-homme-5608639.txt', 'data/livedoor-homme/livedoor-homme-5460086.txt', 'data/livedoor-homme/livedoor-homme-5695257.txt', 'data/livedoor-homme/livedoor-homme-5442194.txt', 'data/livedoor-homme/livedoor-homme-6403291.txt', 'data/livedoor-homme/livedoor-homme-6393628.txt', 'data/livedoor-homme/livedoor-homme-4883137.txt']\n"
     ]
    }
   ],
   "source": [
    "# ファイルの一覧を取得\n",
    "files = glob.glob(\"data/*/*.txt\")\n",
    "print (files[:10]) # 最初の10件表示"
   ]
  },
  {
   "cell_type": "code",
   "execution_count": 4,
   "metadata": {
    "collapsed": true
   },
   "outputs": [],
   "source": [
    "# 全ファイルをロード\n",
    "# ついでに正解クラスと対応付け\n",
    "X_texts = []\n",
    "y = []\n",
    "category_dict = {}\n",
    "for file_path in files:\n",
    "    class_name = file_path.split(\"/\")[-2]\n",
    "    y.append(category_dict.setdefault(class_name, len(category_dict)))\n",
    "    with open(file_path, \"r\", encoding=\"utf-8\") as f:\n",
    "        text = \"\"\n",
    "        for line in f:\n",
    "            text += line\n",
    "    X_texts.append(text)"
   ]
  },
  {
   "cell_type": "code",
   "execution_count": 5,
   "metadata": {
    "collapsed": true
   },
   "outputs": [],
   "source": [
    "# ボキャブラリ辞書の作成とIDFの計算を行う\n",
    "# 名詞のみを使う\n",
    "mt = MeCab.Tagger(\"-Ochasen\")\n",
    "def make_vocab(texts, freq=10):\n",
    "    \"\"\"\n",
    "    辞書を作成する\n",
    "    texts:辞書を作るためのテキストのリスト\n",
    "    freq:出現回数での足切りのための閾値\n",
    "    \"\"\"\n",
    "    all_vocab = {}   # 全ての単語用辞書\n",
    "    all_counter = {} # 出現回数カウンタ(全ての単語用)\n",
    "    for text in texts:\n",
    "        lines = text.split(\"\\n\")\n",
    "        for i, line in enumerate(lines):\n",
    "            if i <= 2: continue # 1,2行目はメタ情報っぽいので除く\n",
    "            mt.parse('')  # 文字コードの闇回避用\n",
    "            res = mt.parseToNode(line)\n",
    "            while res:\n",
    "                infos = res.feature.split(\",\")\n",
    "                if infos[0] == \"名詞\":\n",
    "                    all_vocab.setdefault(res.surface, len(all_vocab))\n",
    "                    all_counter[res.surface] = all_counter.get(res.surface, 0) + 1\n",
    "                res = res.next\n",
    "\n",
    "    # 出現回数freq回の単語のみ出力\n",
    "    # df のために総単語出現数Nをカウント\n",
    "    vocab = {}   # 最終的な辞書\n",
    "    N = 0\n",
    "    idx = 0\n",
    "    for k,v in all_vocab.items():\n",
    "        if all_counter[k] >= freq:\n",
    "            vocab[k] = idx\n",
    "            N += all_counter[k]\n",
    "            idx += 1\n",
    "    \n",
    "    # idfを計算\n",
    "    idf = {}\n",
    "    for k,v in vocab.items():\n",
    "        idf[v] = math.log(N/all_counter[k] + 1)\n",
    "    \n",
    "    return vocab, idf"
   ]
  },
  {
   "cell_type": "code",
   "execution_count": 6,
   "metadata": {
    "collapsed": true
   },
   "outputs": [],
   "source": [
    "def make_tfidf(text, vocab, idf):\n",
    "    \"\"\"\n",
    "    文章をtfidf特徴量形式に変換\n",
    "    text:tfidf特徴量形式に変換したいテキスト\n",
    "    vocab:使う単語をまとめた辞書\n",
    "    idf:vocabのidfをまとめた辞書\n",
    "    \"\"\"\n",
    "    tfidf = [0 for _ in range(len(vocab))] # listの初期化\n",
    "    lines = text.split(\"\\n\")\n",
    "    \n",
    "    # tfをカウント\n",
    "    # 同時に文書内の名詞の総出現数をカウント\n",
    "    doc_N = 0     # 文書内の名詞の総数\n",
    "    words = set() # 出現した単語を保存\n",
    "    for line in lines:\n",
    "        res = mt.parseToNode(line)\n",
    "        while res:\n",
    "            infos = res.feature.split(\",\")\n",
    "            if infos[0] == \"名詞\":\n",
    "                doc_N += 1\n",
    "                index = vocab.get(res.surface, -1)\n",
    "                if index >= 0:\n",
    "                    tfidf[index] += 1\n",
    "                    words.add(index) # インデックスを登録しておく\n",
    "            res = res.next\n",
    "    \n",
    "    #print (tfidf)\n",
    "    # tfidfを計算\n",
    "    for word_index in words:\n",
    "        tfidf[word_index] *= idf[word_index] / doc_N\n",
    "    \n",
    "    return tfidf"
   ]
  },
  {
   "cell_type": "code",
   "execution_count": 7,
   "metadata": {
    "collapsed": false
   },
   "outputs": [],
   "source": [
    "X_texts_test = [u\"これはりんごです。\", u\"これはおいしいみかんとりんごです。\", u\"あれはいちごですか？\"]\n",
    "vocab_test, idf_test = make_vocab(X_texts_test, freq=1)\n",
    "X_test = []\n",
    "for texts_test in X_texts_test:\n",
    "    X_test.append(make_tfidf(texts_test, vocab_test, idf_test))"
   ]
  },
  {
   "cell_type": "code",
   "execution_count": 8,
   "metadata": {
    "collapsed": false
   },
   "outputs": [
    {
     "name": "stdout",
     "output_type": "stream",
     "text": [
      "{}\n",
      "{}\n",
      "[[], [], []]\n"
     ]
    }
   ],
   "source": [
    "print (vocab_test)\n",
    "print (idf_test)\n",
    "print (X_test)"
   ]
  },
  {
   "cell_type": "code",
   "execution_count": 9,
   "metadata": {
    "collapsed": false
   },
   "outputs": [],
   "source": [
    "vocab, idf = make_vocab(X_texts)"
   ]
  },
  {
   "cell_type": "code",
   "execution_count": 10,
   "metadata": {
    "collapsed": false
   },
   "outputs": [],
   "source": [
    "X = []\n",
    "for texts in X_texts:\n",
    "    X.append(make_tfidf(texts, vocab, idf))"
   ]
  },
  {
   "cell_type": "code",
   "execution_count": 12,
   "metadata": {
    "collapsed": false
   },
   "outputs": [],
   "source": [
    "X = np.asarray(X)\n",
    "y = np.asarray(y)\n",
    "X_train, X_test, y_train, y_test = train_test_split(X, y, random_state=0)"
   ]
  },
  {
   "cell_type": "code",
   "execution_count": 13,
   "metadata": {
    "collapsed": false
   },
   "outputs": [
    {
     "name": "stdout",
     "output_type": "stream",
     "text": [
      "[1 1 1 ..., 1 1 1]\n"
     ]
    }
   ],
   "source": [
    "classifier = svm.SVC(kernel='rbf', C=0.01)\n",
    "y_pred = classifier.fit(X_train, y_train).predict(X_test)\n",
    "print (y_pred)"
   ]
  },
  {
   "cell_type": "code",
   "execution_count": 14,
   "metadata": {
    "collapsed": true
   },
   "outputs": [],
   "source": [
    "def plot_confusion_matrix(cm, title='Confusion matrix', cmap=plt.cm.Blues):\n",
    "    plt.imshow(cm, interpolation='nearest', cmap=cmap)\n",
    "    plt.title(title)\n",
    "    plt.colorbar()\n",
    "    tick_marks = np.arange(len(category_dict))\n",
    "    plt.xticks(tick_marks, category_dict, rotation=45)\n",
    "    plt.yticks(tick_marks, category_dict)\n",
    "    plt.tight_layout()\n",
    "    plt.ylabel('True label')\n",
    "    plt.xlabel('Predicted label')"
   ]
  },
  {
   "cell_type": "code",
   "execution_count": 15,
   "metadata": {
    "collapsed": false
   },
   "outputs": [
    {
     "name": "stdout",
     "output_type": "stream",
     "text": [
      "Confusion matrix, without normalization\n",
      "[[  0 133   0   0   0   0   0   0   0]\n",
      " [  0 213   0   0   0   0   0   0   0]\n",
      " [  0 225   0   0   0   0   0   0   0]\n",
      " [  0 208   0   0   0   0   0   0   0]\n",
      " [  0 214   0   0   0   0   0   0   0]\n",
      " [  0 213   0   0   0   0   0   0   0]\n",
      " [  0 196   0   0   0   0   0   0   0]\n",
      " [  0 223   0   0   0   0   0   0   0]\n",
      " [  0 219   0   0   0   0   0   0   0]]\n"
     ]
    },
    {
     "data": {
      "image/png": "[encoded data removed]",
      "text/plain": [
       "<matplotlib.figure.Figure at 0x7f6cbae22208>"
      ]
     },
     "metadata": {},
     "output_type": "display_data"
    }
   ],
   "source": [
    "# Compute confusion matrix\n",
    "cm = confusion_matrix(y_test, y_pred)\n",
    "np.set_printoptions(precision=2)\n",
    "print('Confusion matrix, without normalization')\n",
    "print(cm)\n",
    "plt.figure()\n",
    "plot_confusion_matrix(cm)"
   ]
  },
  {
   "cell_type": "code",
   "execution_count": 21,
   "metadata": {
    "collapsed": false
   },
   "outputs": [
    {
     "data": {
      "text/plain": [
       "7.3063253185294226"
      ]
     },
     "execution_count": 21,
     "metadata": {},
     "output_type": "execute_result"
    }
   ],
   "source": [
    "X[0].sum()"
   ]
  },
  {
   "cell_type": "code",
   "execution_count": 16,
   "metadata": {
    "collapsed": false
   },
   "outputs": [
    {
     "name": "stdout",
     "output_type": "stream",
     "text": [
      "Normalized confusion matrix\n",
      "[[ 0.  1.  0.  0.  0.  0.  0.  0.  0.]\n",
      " [ 0.  1.  0.  0.  0.  0.  0.  0.  0.]\n",
      " [ 0.  1.  0.  0.  0.  0.  0.  0.  0.]\n",
      " [ 0.  1.  0.  0.  0.  0.  0.  0.  0.]\n",
      " [ 0.  1.  0.  0.  0.  0.  0.  0.  0.]\n",
      " [ 0.  1.  0.  0.  0.  0.  0.  0.  0.]\n",
      " [ 0.  1.  0.  0.  0.  0.  0.  0.  0.]\n",
      " [ 0.  1.  0.  0.  0.  0.  0.  0.  0.]\n",
      " [ 0.  1.  0.  0.  0.  0.  0.  0.  0.]]\n"
     ]
    },
    {
     "data": {
      "image/png": "[encoded data removed]",
      "text/plain": [
       "<matplotlib.figure.Figure at 0x7f6cbab8b048>"
      ]
     },
     "metadata": {},
     "output_type": "display_data"
    }
   ],
   "source": [
    "# Normalize the confusion matrix by row (i.e by the number of samples\n",
    "# in each class)\n",
    "cm_normalized = cm.astype('float') / cm.sum(axis=1)[:, np.newaxis]\n",
    "print('Normalized confusion matrix')\n",
    "print(cm_normalized)\n",
    "plt.figure()\n",
    "plot_confusion_matrix(cm_normalized, title='Normalized confusion matrix')\n",
    "\n",
    "plt.show()"
   ]
  },
  {
   "cell_type": "code",
   "execution_count": null,
   "metadata": {
    "collapsed": true
   },
   "outputs": [],
   "source": []
  }
 ],
 "metadata": {
  "kernelspec": {
   "display_name": "Python 3",
   "language": "python",
   "name": "python3"
  },
  "language_info": {
   "codemirror_mode": {
    "name": "ipython",
    "version": 3
   },
   "file_extension": ".py",
   "mimetype": "text/x-python",
   "name": "python",
   "nbconvert_exporter": "python",
   "pygments_lexer": "ipython3",
   "version": "3.5.1"
  }
 },
 "nbformat": 4,
 "nbformat_minor": 0
}
